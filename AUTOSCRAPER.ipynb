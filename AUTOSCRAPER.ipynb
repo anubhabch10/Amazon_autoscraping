{
 "cells": [
  {
   "cell_type": "code",
   "execution_count": 4,
   "id": "3e14b3b8-05b9-4fdd-9410-c041094d80cd",
   "metadata": {},
   "outputs": [
    {
     "name": "stdout",
     "output_type": "stream",
     "text": [
      "Collecting autoscraper\n",
      "  Using cached autoscraper-1.1.14-py3-none-any.whl (10 kB)\n",
      "Collecting lxml\n",
      "  Downloading lxml-4.9.2-cp39-cp39-win_amd64.whl (3.9 MB)\n",
      "     ---------------------------------------- 3.9/3.9 MB 5.9 MB/s eta 0:00:00\n",
      "Requirement already satisfied: requests in c:\\users\\anubhab\\appdata\\local\\programs\\python\\python39\\lib\\site-packages (from autoscraper) (2.26.0)\n",
      "Requirement already satisfied: bs4 in c:\\users\\anubhab\\appdata\\local\\programs\\python\\python39\\lib\\site-packages (from autoscraper) (0.0.1)\n",
      "Requirement already satisfied: beautifulsoup4 in c:\\users\\anubhab\\appdata\\local\\programs\\python\\python39\\lib\\site-packages (from bs4->autoscraper) (4.10.0)\n",
      "Requirement already satisfied: certifi>=2017.4.17 in c:\\users\\anubhab\\appdata\\local\\programs\\python\\python39\\lib\\site-packages (from requests->autoscraper) (2021.10.8)\n",
      "Requirement already satisfied: urllib3<1.27,>=1.21.1 in c:\\users\\anubhab\\appdata\\local\\programs\\python\\python39\\lib\\site-packages (from requests->autoscraper) (1.26.7)\n",
      "Requirement already satisfied: charset-normalizer~=2.0.0 in c:\\users\\anubhab\\appdata\\local\\programs\\python\\python39\\lib\\site-packages (from requests->autoscraper) (2.0.7)\n",
      "Requirement already satisfied: idna<4,>=2.5 in c:\\users\\anubhab\\appdata\\local\\programs\\python\\python39\\lib\\site-packages (from requests->autoscraper) (3.3)\n",
      "Requirement already satisfied: soupsieve>1.2 in c:\\users\\anubhab\\appdata\\local\\programs\\python\\python39\\lib\\site-packages (from beautifulsoup4->bs4->autoscraper) (2.3.1)\n",
      "Installing collected packages: lxml, autoscraper\n",
      "Successfully installed autoscraper-1.1.14 lxml-4.9.2\n",
      "Note: you may need to restart the kernel to use updated packages.\n"
     ]
    },
    {
     "name": "stderr",
     "output_type": "stream",
     "text": [
      "\n",
      "[notice] A new release of pip available: 22.3 -> 22.3.1\n",
      "[notice] To update, run: c:\\users\\anubhab\\appdata\\local\\programs\\python\\python39\\python.exe -m pip install --upgrade pip\n"
     ]
    }
   ],
   "source": [
    "pip install autoscraper"
   ]
  },
  {
   "cell_type": "code",
   "execution_count": 4,
   "id": "056ec5e3-f0ce-4f80-94ac-ae9155b6aa18",
   "metadata": {},
   "outputs": [],
   "source": [
    "from autoscraper import AutoScraper"
   ]
  },
  {
   "cell_type": "code",
   "execution_count": 5,
   "id": "2186427f-cffb-4e77-bba7-dfce2c8d4582",
   "metadata": {},
   "outputs": [],
   "source": [
    "amazon_url = \"https://www.amazon.in/s?k=iphones\"\n",
    "\n",
    "wanted_url = [\"61,999 \", \"Apple iPhone 13 (128GB) - Midnight\"]"
   ]
  },
  {
   "cell_type": "code",
   "execution_count": 6,
   "id": "7c13dbb7-30d7-46a0-894e-3af4859fb57a",
   "metadata": {},
   "outputs": [
    {
     "name": "stdout",
     "output_type": "stream",
     "text": [
      "['61,999', '13,499', '18,499', '1,22,999', '1,22,990', '1,32,999', '74,900', '73,990', '1,42,990', '64,900', '1,39,900', '1,83,990', 'Apple iPhone 13 (128GB) - Midnight', 'Apple iPhone 13 (128GB) - Green', 'CEX Apple iPhone 5S (Space Grey, 16GB)', 'Apple iPhone 6 (64GB)-Gold', 'Apple iPhone 14 Pro 128GB Space Black', 'Apple iPhone 14 Pro 128GB Gold', 'Apple iPhone 14 Pro Max 128GB Deep Purple', 'Apple iPhone 13 (256GB) - Midnight', 'Apple iPhone 13 (256GB) - (Product) RED', 'Apple iPhone 14 Pro Max 256GB Space Black', 'Apple iPhone 13 Mini (128GB) - Blue', 'Apple iPhone 5s (16GB,Space Grey)', 'Apple iPhone 14 Pro 128GB Silver', 'CEX A:pple iPhone 5S (Silver, 16GB)', 'Apple iPhone 14 Pro 256GB Deep Purple', 'Apple iPhone 14 Pro Max 1TB Deep Purple']\n"
     ]
    }
   ],
   "source": [
    "scraper=AutoScraper()\n",
    "result=scraper.build(amazon_url,wanted_url)\n",
    "print(result)"
   ]
  },
  {
   "cell_type": "code",
   "execution_count": 7,
   "id": "3d9caa24-15d2-4970-9f0c-5bed06456769",
   "metadata": {},
   "outputs": [
    {
     "data": {
      "text/plain": [
       "{'rule_zesp': ['61,999',\n",
       "  '13,499',\n",
       "  '18,499',\n",
       "  '1,22,999',\n",
       "  '1,22,990',\n",
       "  '18,499',\n",
       "  '1,32,999',\n",
       "  '74,900',\n",
       "  '73,990',\n",
       "  '13,499',\n",
       "  '1,42,990',\n",
       "  '64,900',\n",
       "  '1,83,990',\n",
       "  '13,499',\n",
       "  '1,22,999'],\n",
       " 'rule_7z42': ['Apple iPhone 13 (128GB) - Midnight',\n",
       "  'Apple iPhone 13 (128GB) - Green',\n",
       "  'CEX Apple iPhone 5S (Space Grey, 16GB)',\n",
       "  'Apple iPhone 6 (64GB)-Gold',\n",
       "  'Apple iPhone 14 Pro 128GB Space Black',\n",
       "  'Apple iPhone 14 Pro 128GB Gold',\n",
       "  'Apple iPhone 6 (64GB)-Silver',\n",
       "  'Apple iPhone 14 Pro Max 128GB Deep Purple',\n",
       "  'Apple iPhone 13 (256GB) - Midnight',\n",
       "  'Apple iPhone 13 (256GB) - (Product) RED',\n",
       "  'Apple iPhone 5s (16GB,Space Grey)',\n",
       "  'Apple iPhone 14 Pro Max 256GB Space Black',\n",
       "  'Apple iPhone 13 Mini (128GB) - Blue',\n",
       "  'Apple iPhone 14 Pro Max 1TB Deep Purple',\n",
       "  'CEX A:pple iPhone 5S (Silver, 16GB)',\n",
       "  'Apple iPhone 14 Pro 128GB Silver'],\n",
       " 'rule_ii5s': ['Apple iPhone 13 (128GB) - Midnight',\n",
       "  'Apple iPhone 13 (128GB) - Green',\n",
       "  'CEX Apple iPhone 5S (Space Grey, 16GB)',\n",
       "  'Apple iPhone 6 (64GB)-Gold',\n",
       "  'Apple iPhone 14 Pro 128GB Space Black',\n",
       "  'Apple iPhone 14 Pro 128GB Gold',\n",
       "  'Apple iPhone 6 (64GB)-Silver',\n",
       "  'Apple iPhone 14 Pro Max 128GB Deep Purple',\n",
       "  'Apple iPhone 13 (256GB) - Midnight',\n",
       "  'Apple iPhone 13 (256GB) - (Product) RED',\n",
       "  'Apple iPhone 5s (16GB,Space Grey)',\n",
       "  'Apple iPhone 14 Pro Max 256GB Space Black',\n",
       "  'Apple iPhone 13 Mini (128GB) - Blue',\n",
       "  'Apple iPhone 14 Pro Max 1TB Deep Purple',\n",
       "  'CEX A:pple iPhone 5S (Silver, 16GB)',\n",
       "  'Apple iPhone 14 Pro 128GB Silver']}"
      ]
     },
     "execution_count": 7,
     "metadata": {},
     "output_type": "execute_result"
    }
   ],
   "source": [
    "scraper.get_result_similar(amazon_url,grouped=True)"
   ]
  },
  {
   "cell_type": "code",
   "execution_count": 8,
   "id": "31521478-1831-40ca-8277-c84aa87f8c59",
   "metadata": {},
   "outputs": [],
   "source": [
    "scraper.set_rule_aliases({'rule_7z42':'Title','rule_zesp':'Price'})\n",
    "scraper.keep_rules(['rule_7z42','rule_zesp'])\n",
    "scraper.save('amazon-search')"
   ]
  },
  {
   "cell_type": "code",
   "execution_count": 9,
   "id": "b5ee4374-4729-481f-bc17-e59c8a310edb",
   "metadata": {
    "tags": []
   },
   "outputs": [],
   "source": [
    "results=scraper.get_result_similar('https://www.amazon.in/s?k=iphones',group_by_alias=True)"
   ]
  },
  {
   "cell_type": "code",
   "execution_count": 13,
   "id": "a3debdb2-1733-40c7-82a9-31d7281f2eb3",
   "metadata": {},
   "outputs": [],
   "source": [
    "title = results['Title']"
   ]
  },
  {
   "cell_type": "code",
   "execution_count": 14,
   "id": "40f57300-0283-407f-b706-8126790ea4d1",
   "metadata": {},
   "outputs": [],
   "source": [
    "price = results['Price']"
   ]
  },
  {
   "cell_type": "code",
   "execution_count": 15,
   "id": "107fa8a2-d1da-4d8b-8224-6055d213c2e9",
   "metadata": {},
   "outputs": [],
   "source": [
    "import csv \n",
    "\n",
    "header = ['Title', 'Price']\n",
    "data = [title, price]\n",
    "\n",
    "\n",
    "with open('AmazonWebScraperDataset.csv', 'w', newline='', encoding='UTF8') as f:\n",
    "    writer = csv.writer(f)\n",
    "    writer.writerow(header)\n",
    "    writer.writerow(data)"
   ]
  },
  {
   "cell_type": "code",
   "execution_count": null,
   "id": "7b1c204c-f29a-42ed-9015-2fd6789b6816",
   "metadata": {},
   "outputs": [],
   "source": []
  }
 ],
 "metadata": {
  "kernelspec": {
   "display_name": "Python 3 (ipykernel)",
   "language": "python",
   "name": "python3"
  },
  "language_info": {
   "codemirror_mode": {
    "name": "ipython",
    "version": 3
   },
   "file_extension": ".py",
   "mimetype": "text/x-python",
   "name": "python",
   "nbconvert_exporter": "python",
   "pygments_lexer": "ipython3",
   "version": "3.9.5"
  }
 },
 "nbformat": 4,
 "nbformat_minor": 5
}
